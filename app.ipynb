{
 "cells": [
  {
   "cell_type": "code",
   "execution_count": 1,
   "metadata": {},
   "outputs": [],
   "source": [
    "# Sign language to text / speech\n",
    "# Dependancy Imports\n",
    "import cv2\n",
    "import keras\n",
    "import pyttsx3\n",
    "import threading \n",
    "import numpy as np\n",
    "import tensorflow as tf\n",
    "\n",
    "from gtts import gTTS \n",
    "from textblob import Word \n",
    "from nltk.corpus import words\n",
    "from keras.models import load_model\n",
    "from keras.preprocessing.image import load_img, img_to_array"
   ]
  },
  {
   "cell_type": "code",
   "execution_count": 5,
   "metadata": {},
   "outputs": [],
   "source": [
    "engine = pyttsx3.init()\n",
    "\n",
    "# Load trained model\n",
    "model = keras.models.load_model(\"model.h5\")\n",
    "\n",
    "labels_dict = {0:'0', 1:'A', 2:'B', 3:'C', 4:'D', 5:'E', 6:'F', 7:'G', 8:'H',9:'I',10:'J',11:'K',12:'L',13:'M',14:'N',15:'O',16:'P',17:\"Q\",18:'R',19:'S',20:'T', 21:'U', 22:'V',23:'W',24:'X',25:'Y',26:'Z'}"
   ]
  },
  {
   "cell_type": "code",
   "execution_count": 6,
   "metadata": {},
   "outputs": [],
   "source": [
    "# Helper functions\n",
    "def check_word_spelling(word):\n",
    "    \n",
    "    word = Word(word)\n",
    "    \n",
    "    result = word.spellcheck()    \n",
    "    return result[0][0]\n",
    "\n",
    "def speak_letter(letter):\n",
    "    engine.say(letter)\n",
    "    engine.runAndWait()"
   ]
  },
  {
   "cell_type": "code",
   "execution_count": 9,
   "metadata": {},
   "outputs": [
    {
     "name": "stdout",
     "output_type": "stream",
     "text": [
      "Detected String:   IZZTWH \n",
      "Requirement already satisfied: gTTS in c:\\users\\kabra\\appdata\\local\\programs\\python\\python310\\lib\\site-packages (2.2.4)\n",
      "Requirement already satisfied: click in c:\\users\\kabra\\appdata\\local\\programs\\python\\python310\\lib\\site-packages (from gTTS) (8.0.3)\n",
      "Requirement already satisfied: six in c:\\users\\kabra\\appdata\\local\\programs\\python\\python310\\lib\\site-packages (from gTTS) (1.16.0)\n",
      "Requirement already satisfied: requests in c:\\users\\kabra\\appdata\\local\\programs\\python\\python310\\lib\\site-packages (from gTTS) (2.27.1)\n",
      "Requirement already satisfied: colorama in c:\\users\\kabra\\appdata\\local\\programs\\python\\python310\\lib\\site-packages (from click->gTTS) (0.4.4)\n",
      "Requirement already satisfied: idna<4,>=2.5 in c:\\users\\kabra\\appdata\\local\\programs\\python\\python310\\lib\\site-packages (from requests->gTTS) (3.3)\n",
      "Requirement already satisfied: charset-normalizer~=2.0.0 in c:\\users\\kabra\\appdata\\local\\programs\\python\\python310\\lib\\site-packages (from requests->gTTS) (2.0.12)\n",
      "Requirement already satisfied: urllib3<1.27,>=1.21.1 in c:\\users\\kabra\\appdata\\local\\programs\\python\\python310\\lib\\site-packages (from requests->gTTS) (1.26.8)\n",
      "Requirement already satisfied: certifi>=2017.4.17 in c:\\users\\kabra\\appdata\\local\\programs\\python\\python310\\lib\\site-packages (from requests->gTTS) (2021.10.8)\n"
     ]
    },
    {
     "name": "stderr",
     "output_type": "stream",
     "text": [
      "WARNING: You are using pip version 21.2.4; however, version 22.3.1 is available.\n",
      "You should consider upgrading via the 'C:\\Users\\kabra\\AppData\\Local\\Programs\\Python\\Python310\\python.exe -m pip install --upgrade pip' command.\n"
     ]
    }
   ],
   "source": [
    "# Detect Live feed\n",
    "color_dict=(0,255,0)\n",
    "# x=0\n",
    "# y=0\n",
    "# w=64\n",
    "# h=64\n",
    "\n",
    "img_size=128\n",
    "minValue = 70\n",
    "\n",
    "source=cv2.VideoCapture(0)\n",
    "\n",
    "\n",
    "count = 0\n",
    "string = \" \"\n",
    "prev = \" \"\n",
    "prev_val = 0\n",
    "\n",
    "while(True):\n",
    "\n",
    "    ret,img=source.read()\n",
    "\n",
    "    gray=cv2.cvtColor(img,cv2.COLOR_BGR2GRAY)\n",
    "    cv2.rectangle(img,(24,24),(250 , 250),color_dict,2)\n",
    "    crop_img=gray[24:250,24:250]\n",
    "\n",
    "    count = count + 1\n",
    "    if(count % 100 == 0):\n",
    "        prev_val = count\n",
    "\n",
    "    #cv2.putText(img, str(prev_val//100), (300, 150),cv2.FONT_HERSHEY_SIMPLEX,1.5,(255,255,255),2) \n",
    "    blur = cv2.GaussianBlur(crop_img,(5,5),2)\n",
    "    th3 = cv2.adaptiveThreshold(blur,255,cv2.ADAPTIVE_THRESH_GAUSSIAN_C,cv2.THRESH_BINARY_INV,11,2)\n",
    "    ret, res = cv2.threshold(th3, minValue, 255, cv2.THRESH_BINARY_INV+cv2.THRESH_OTSU)\n",
    "    \n",
    "    resized=cv2.resize(res,(img_size,img_size))\n",
    "    normalized=resized/255.0\n",
    "    reshaped=np.reshape(normalized,(1,img_size,img_size,1))\n",
    "    result = model.predict(reshaped)\n",
    "\n",
    "    label=np.argmax(result,axis=1)[0]\n",
    "\n",
    "    if(count == 300):\n",
    "        count = 99\n",
    "        prev= labels_dict[label]\n",
    "        if(label == 0):\n",
    "            string = string + \" \"\n",
    "            #check spell\n",
    "            string = check_word_spelling(string)\n",
    "            speak_letter(string)\n",
    "        else:\n",
    "            string = string + prev\n",
    "    \n",
    "    # cv2.putText(img, prev, (24, 14),cv2.FONT_HERSHEY_SIMPLEX,0.8,(255,255,255),2) \n",
    "    cv2.putText(img, string, (275, 50),cv2.FONT_HERSHEY_SIMPLEX,0.8,(200,200,200),2)\n",
    "    cv2.imshow(\"Binary Screen\",res)    \n",
    "    cv2.imshow('LIVE Detection',img)\n",
    "    key=cv2.waitKey(1)\n",
    "    \n",
    " \n",
    "    if(key==27):#press Esc. to exit\n",
    "        break\n",
    "\n",
    "print(f'Detected String: ',string)        \n",
    "cv2.destroyAllWindows()\n",
    "source.release()\n",
    "cv2.destroyAllWindows()\n",
    "\n",
    "get_ipython().system('pip install gTTS')\n",
    "        "
   ]
  }
 ],
 "metadata": {
  "kernelspec": {
   "display_name": "Python 3.10.2 64-bit",
   "language": "python",
   "name": "python3"
  },
  "language_info": {
   "codemirror_mode": {
    "name": "ipython",
    "version": 3
   },
   "file_extension": ".py",
   "mimetype": "text/x-python",
   "name": "python",
   "nbconvert_exporter": "python",
   "pygments_lexer": "ipython3",
   "version": "3.10.2"
  },
  "orig_nbformat": 4,
  "vscode": {
   "interpreter": {
    "hash": "cd5f60de7d6bf08f4bfc8c799e9bf2b34e786eb7cba2a2b100e50aac95029966"
   }
  }
 },
 "nbformat": 4,
 "nbformat_minor": 2
}
